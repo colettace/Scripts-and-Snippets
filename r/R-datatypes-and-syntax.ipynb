{
 "cells": [
  {
   "cell_type": "markdown",
   "metadata": {},
   "source": [
    "# R workshop - types and syntax\n",
    "\n",
    "* Dots in identifier names are just part of the identifier. They are not scope operators. They are not operators at all. They are just a legal character to use in the names of things. \n",
    "\n",
    "* seq_along(x) rough equivalent of enumerate\n",
    "* typeof()\n",
    "* class()\n",
    "\n",
    "## Resources\n",
    "* [aRrgh](http://arrgh.tim-smith.us/atomic.html)\n",
    "* [Hyperpolyglot: Matlab, R , Python](http://hyperpolyglot.org/numerical-analysis)\n",
    "* [Advanced R](https://adv-r.hadley.nz/) - by Hadley Wickham\n",
    "    * \"According to Wickham's \"tidy\" approach, each variable should be a column, each observation should be a row, and each type of observational unit should be a table.\"\n",
    "* [The R Inferno](http://www.burns-stat.com/pages/Tutor/R_inferno.pdf) - \"If you are using R and you think you're in hell, this is a map for you\""
   ]
  },
  {
   "cell_type": "markdown",
   "metadata": {},
   "source": [
    "# Data types\n",
    "\n",
    "## Five Main Data Types in R\n",
    "1. Atomic vector\n",
    "2. Matrix\n",
    "3. Array\n",
    "4. List\n",
    "5. Dataframe\n",
    "\n",
    "\n",
    "* Everything in R is referred to as an object.\n",
    "* All data in R consists of a header of metadata - the object's attributes - and the data structure itself.\n",
    "* The fundamental data structure in R is the vector, which is essentially a one-dimensional array with attributes. Even the primitive data types in R are vectors. For example, 2 is a single-element vector.\n",
    "* To reference a single vector element you use v[ [i] ] .\n",
    "* To reference a sub vector you use v[i].\n",
    "* For a vector v[i] and v[ [i] ] are almost the same thing as primitive data types are vectors.\n",
    "* All arithmetic in R is vector-oriented.\n",
    "* If a vector doesn't have enough elements in a vector expression, its elements are reused.\n",
    "* Attributes can be used to change the way data structures are used by the system.\n",
    "* The dim attribute can be used to interpret a one dimensional vector as an n dimensional array.\n",
    "* A matrix is a 2 x 2 array.\n",
    "* A one-dimensional vector is not the same as a one-dimensional array because it lacks a dim attribute."
   ]
  },
  {
   "cell_type": "markdown",
   "metadata": {},
   "source": [
    "\n",
    "# vector: a 1-D array with homogenous datatype\n",
    "\n",
    "* \"atomic vector\" - the simplest R data type.\n",
    "* Linear vectors of a single primitive type\n",
    "    * numeric vector - integer literals are suffixed by L\n",
    "    * character vector\n",
    "    * logical - TRUE, FALSE, NA means \"not available\"\n",
    "        * aRrgh: \"Do not use T and F for TRUE and FALSE. You will see people doing it but they’re not your friend; T and F are just variables with default values. Set T <- F and source their code and laugh as it burns.\"\n",
    "    * complex\n",
    "* Extend the vector by assigning past the end of a vector\n",
    "\n",
    "## \"Combine\" Functions\n",
    "* c() - combine into a vector\n",
    "* cbind() combine objects as columns\n",
    "* rbind() - combine objects as rows\n"
   ]
  },
  {
   "cell_type": "code",
   "execution_count": 1,
   "metadata": {},
   "outputs": [],
   "source": [
    "a<-c(4,5,1,3,4,5)"
   ]
  },
  {
   "cell_type": "code",
   "execution_count": 2,
   "metadata": {},
   "outputs": [
    {
     "data": {
      "text/html": [
       "'numeric'"
      ],
      "text/latex": [
       "'numeric'"
      ],
      "text/markdown": [
       "'numeric'"
      ],
      "text/plain": [
       "[1] \"numeric\""
      ]
     },
     "metadata": {},
     "output_type": "display_data"
    }
   ],
   "source": [
    "class(a)"
   ]
  },
  {
   "cell_type": "code",
   "execution_count": 3,
   "metadata": {},
   "outputs": [],
   "source": [
    "a<-c(4,5,'asfd',1,3,4,5)"
   ]
  },
  {
   "cell_type": "code",
   "execution_count": 4,
   "metadata": {},
   "outputs": [
    {
     "data": {
      "text/html": [
       "'character'"
      ],
      "text/latex": [
       "'character'"
      ],
      "text/markdown": [
       "'character'"
      ],
      "text/plain": [
       "[1] \"character\""
      ]
     },
     "metadata": {},
     "output_type": "display_data"
    }
   ],
   "source": [
    "class(a)"
   ]
  },
  {
   "cell_type": "code",
   "execution_count": 5,
   "metadata": {},
   "outputs": [
    {
     "data": {
      "text/html": [
       "<ol class=list-inline>\n",
       "\t<li>'4'</li>\n",
       "\t<li>'5'</li>\n",
       "\t<li>'asfd'</li>\n",
       "\t<li>'1'</li>\n",
       "\t<li>'3'</li>\n",
       "\t<li>'4'</li>\n",
       "\t<li>'5'</li>\n",
       "</ol>\n"
      ],
      "text/latex": [
       "\\begin{enumerate*}\n",
       "\\item '4'\n",
       "\\item '5'\n",
       "\\item 'asfd'\n",
       "\\item '1'\n",
       "\\item '3'\n",
       "\\item '4'\n",
       "\\item '5'\n",
       "\\end{enumerate*}\n"
      ],
      "text/markdown": [
       "1. '4'\n",
       "2. '5'\n",
       "3. 'asfd'\n",
       "4. '1'\n",
       "5. '3'\n",
       "6. '4'\n",
       "7. '5'\n",
       "\n",
       "\n"
      ],
      "text/plain": [
       "[1] \"4\"    \"5\"    \"asfd\" \"1\"    \"3\"    \"4\"    \"5\"   "
      ]
     },
     "metadata": {},
     "output_type": "display_data"
    }
   ],
   "source": [
    "a"
   ]
  },
  {
   "cell_type": "code",
   "execution_count": 28,
   "metadata": {},
   "outputs": [
    {
     "data": {
      "text/plain": [
       "NULL"
      ]
     },
     "metadata": {},
     "output_type": "display_data"
    }
   ],
   "source": [
    "attributes(a)"
   ]
  },
  {
   "cell_type": "code",
   "execution_count": 8,
   "metadata": {},
   "outputs": [
    {
     "data": {
      "text/html": [
       "<ol class=list-inline>\n",
       "\t<li>1</li>\n",
       "\t<li>5</li>\n",
       "</ol>\n"
      ],
      "text/latex": [
       "\\begin{enumerate*}\n",
       "\\item 1\n",
       "\\item 5\n",
       "\\end{enumerate*}\n"
      ],
      "text/markdown": [
       "1. 1\n",
       "2. 5\n",
       "\n",
       "\n"
      ],
      "text/plain": [
       "[1] 1 5"
      ]
     },
     "metadata": {},
     "output_type": "display_data"
    }
   ],
   "source": [
    "dim( cbind( 2,3, 4,5,6) )"
   ]
  },
  {
   "cell_type": "code",
   "execution_count": 9,
   "metadata": {},
   "outputs": [
    {
     "data": {
      "text/html": [
       "'matrix'"
      ],
      "text/latex": [
       "'matrix'"
      ],
      "text/markdown": [
       "'matrix'"
      ],
      "text/plain": [
       "[1] \"matrix\""
      ]
     },
     "metadata": {},
     "output_type": "display_data"
    }
   ],
   "source": [
    "class( cbind( 2,3, 4,5,6) )"
   ]
  },
  {
   "cell_type": "code",
   "execution_count": 59,
   "metadata": {},
   "outputs": [
    {
     "data": {
      "text/html": [
       "1"
      ],
      "text/latex": [
       "1"
      ],
      "text/markdown": [
       "1"
      ],
      "text/plain": [
       "[1] 1"
      ]
     },
     "metadata": {},
     "output_type": "display_data"
    }
   ],
   "source": [
    "length( \"hello\" ) # WTF?? a character atomic vector with length 1"
   ]
  },
  {
   "cell_type": "code",
   "execution_count": 60,
   "metadata": {},
   "outputs": [
    {
     "data": {
      "text/html": [
       "5"
      ],
      "text/latex": [
       "5"
      ],
      "text/markdown": [
       "5"
      ],
      "text/plain": [
       "[1] 5"
      ]
     },
     "metadata": {},
     "output_type": "display_data"
    }
   ],
   "source": [
    "nchar( 'hello')"
   ]
  },
  {
   "cell_type": "markdown",
   "metadata": {},
   "source": [
    "# matrix: 2-D array with optional row/column names"
   ]
  },
  {
   "cell_type": "code",
   "execution_count": 30,
   "metadata": {},
   "outputs": [],
   "source": [
    "y<-matrix(1:20, nrow=5,ncol=4)"
   ]
  },
  {
   "cell_type": "code",
   "execution_count": 31,
   "metadata": {},
   "outputs": [],
   "source": [
    "cells <- c(1,26,24,68)\n",
    "rnames <- c(\"R1\", \"R2\")\n",
    "cnames <- c(\"C1\", \"C2\")\n",
    "mymatrix <- matrix(cells, nrow=2, ncol=2, byrow=TRUE,\n",
    "  dimnames=list(rnames, cnames))"
   ]
  },
  {
   "cell_type": "code",
   "execution_count": 32,
   "metadata": {},
   "outputs": [
    {
     "data": {
      "text/html": [
       "<table>\n",
       "<thead><tr><th></th><th scope=col>C1</th><th scope=col>C2</th></tr></thead>\n",
       "<tbody>\n",
       "\t<tr><th scope=row>R1</th><td> 1</td><td>26</td></tr>\n",
       "\t<tr><th scope=row>R2</th><td>24</td><td>68</td></tr>\n",
       "</tbody>\n",
       "</table>\n"
      ],
      "text/latex": [
       "\\begin{tabular}{r|ll}\n",
       "  & C1 & C2\\\\\n",
       "\\hline\n",
       "\tR1 &  1 & 26\\\\\n",
       "\tR2 & 24 & 68\\\\\n",
       "\\end{tabular}\n"
      ],
      "text/markdown": [
       "\n",
       "| <!--/--> | C1 | C2 | \n",
       "|---|---|\n",
       "| R1 |  1 | 26 | \n",
       "| R2 | 24 | 68 | \n",
       "\n",
       "\n"
      ],
      "text/plain": [
       "   C1 C2\n",
       "R1  1 26\n",
       "R2 24 68"
      ]
     },
     "metadata": {},
     "output_type": "display_data"
    }
   ],
   "source": [
    "mymatrix"
   ]
  },
  {
   "cell_type": "code",
   "execution_count": 33,
   "metadata": {},
   "outputs": [
    {
     "data": {
      "text/html": [
       "<dl>\n",
       "\t<dt>$dim</dt>\n",
       "\t\t<dd><ol class=list-inline>\n",
       "\t<li>2</li>\n",
       "\t<li>2</li>\n",
       "</ol>\n",
       "</dd>\n",
       "\t<dt>$dimnames</dt>\n",
       "\t\t<dd><ol>\n",
       "\t<li><ol class=list-inline>\n",
       "\t<li>'R1'</li>\n",
       "\t<li>'R2'</li>\n",
       "</ol>\n",
       "</li>\n",
       "\t<li><ol class=list-inline>\n",
       "\t<li>'C1'</li>\n",
       "\t<li>'C2'</li>\n",
       "</ol>\n",
       "</li>\n",
       "</ol>\n",
       "</dd>\n",
       "</dl>\n"
      ],
      "text/latex": [
       "\\begin{description}\n",
       "\\item[\\$dim] \\begin{enumerate*}\n",
       "\\item 2\n",
       "\\item 2\n",
       "\\end{enumerate*}\n",
       "\n",
       "\\item[\\$dimnames] \\begin{enumerate}\n",
       "\\item \\begin{enumerate*}\n",
       "\\item 'R1'\n",
       "\\item 'R2'\n",
       "\\end{enumerate*}\n",
       "\n",
       "\\item \\begin{enumerate*}\n",
       "\\item 'C1'\n",
       "\\item 'C2'\n",
       "\\end{enumerate*}\n",
       "\n",
       "\\end{enumerate}\n",
       "\n",
       "\\end{description}\n"
      ],
      "text/markdown": [
       "$dim\n",
       ":   1. 2\n",
       "2. 2\n",
       "\n",
       "\n",
       "\n",
       "$dimnames\n",
       ":   1. 1. 'R1'\n",
       "2. 'R2'\n",
       "\n",
       "\n",
       "\n",
       "2. 1. 'C1'\n",
       "2. 'C2'\n",
       "\n",
       "\n",
       "\n",
       "\n",
       "\n",
       "\n",
       "\n",
       "\n"
      ],
      "text/plain": [
       "$dim\n",
       "[1] 2 2\n",
       "\n",
       "$dimnames\n",
       "$dimnames[[1]]\n",
       "[1] \"R1\" \"R2\"\n",
       "\n",
       "$dimnames[[2]]\n",
       "[1] \"C1\" \"C2\"\n",
       "\n"
      ]
     },
     "metadata": {},
     "output_type": "display_data"
    }
   ],
   "source": [
    "attributes( mymatrix)"
   ]
  },
  {
   "cell_type": "markdown",
   "metadata": {},
   "source": [
    "## Reshape a matrix by assigning to dim"
   ]
  },
  {
   "cell_type": "code",
   "execution_count": 36,
   "metadata": {},
   "outputs": [],
   "source": [
    "x<-c(1,2,3,4)\n",
    "dim(x)<- c(2,2)"
   ]
  },
  {
   "cell_type": "code",
   "execution_count": 37,
   "metadata": {},
   "outputs": [
    {
     "data": {
      "text/html": [
       "<table>\n",
       "<tbody>\n",
       "\t<tr><td>1</td><td>3</td></tr>\n",
       "\t<tr><td>2</td><td>4</td></tr>\n",
       "</tbody>\n",
       "</table>\n"
      ],
      "text/latex": [
       "\\begin{tabular}{ll}\n",
       "\t 1 & 3\\\\\n",
       "\t 2 & 4\\\\\n",
       "\\end{tabular}\n"
      ],
      "text/markdown": [
       "\n",
       "| 1 | 3 | \n",
       "| 2 | 4 | \n",
       "\n",
       "\n"
      ],
      "text/plain": [
       "     [,1] [,2]\n",
       "[1,] 1    3   \n",
       "[2,] 2    4   "
      ]
     },
     "metadata": {},
     "output_type": "display_data"
    }
   ],
   "source": [
    "x"
   ]
  },
  {
   "cell_type": "markdown",
   "metadata": {},
   "source": [
    "# array 3+-D array\n",
    "\n",
    "see help(array)"
   ]
  },
  {
   "cell_type": "code",
   "execution_count": 44,
   "metadata": {},
   "outputs": [],
   "source": [
    "x<- array(0,c(2,3,4))"
   ]
  },
  {
   "cell_type": "code",
   "execution_count": 45,
   "metadata": {},
   "outputs": [
    {
     "data": {
      "text/html": [
       "<ol class=list-inline>\n",
       "\t<li>0</li>\n",
       "\t<li>0</li>\n",
       "\t<li>0</li>\n",
       "\t<li>0</li>\n",
       "\t<li>0</li>\n",
       "\t<li>0</li>\n",
       "\t<li>0</li>\n",
       "\t<li>0</li>\n",
       "\t<li>0</li>\n",
       "\t<li>0</li>\n",
       "\t<li>0</li>\n",
       "\t<li>0</li>\n",
       "\t<li>0</li>\n",
       "\t<li>0</li>\n",
       "\t<li>0</li>\n",
       "\t<li>0</li>\n",
       "\t<li>0</li>\n",
       "\t<li>0</li>\n",
       "\t<li>0</li>\n",
       "\t<li>0</li>\n",
       "\t<li>0</li>\n",
       "\t<li>0</li>\n",
       "\t<li>0</li>\n",
       "\t<li>0</li>\n",
       "</ol>\n"
      ],
      "text/latex": [
       "\\begin{enumerate*}\n",
       "\\item 0\n",
       "\\item 0\n",
       "\\item 0\n",
       "\\item 0\n",
       "\\item 0\n",
       "\\item 0\n",
       "\\item 0\n",
       "\\item 0\n",
       "\\item 0\n",
       "\\item 0\n",
       "\\item 0\n",
       "\\item 0\n",
       "\\item 0\n",
       "\\item 0\n",
       "\\item 0\n",
       "\\item 0\n",
       "\\item 0\n",
       "\\item 0\n",
       "\\item 0\n",
       "\\item 0\n",
       "\\item 0\n",
       "\\item 0\n",
       "\\item 0\n",
       "\\item 0\n",
       "\\end{enumerate*}\n"
      ],
      "text/markdown": [
       "1. 0\n",
       "2. 0\n",
       "3. 0\n",
       "4. 0\n",
       "5. 0\n",
       "6. 0\n",
       "7. 0\n",
       "8. 0\n",
       "9. 0\n",
       "10. 0\n",
       "11. 0\n",
       "12. 0\n",
       "13. 0\n",
       "14. 0\n",
       "15. 0\n",
       "16. 0\n",
       "17. 0\n",
       "18. 0\n",
       "19. 0\n",
       "20. 0\n",
       "21. 0\n",
       "22. 0\n",
       "23. 0\n",
       "24. 0\n",
       "\n",
       "\n"
      ],
      "text/plain": [
       ", , 1\n",
       "\n",
       "     [,1] [,2] [,3]\n",
       "[1,]    0    0    0\n",
       "[2,]    0    0    0\n",
       "\n",
       ", , 2\n",
       "\n",
       "     [,1] [,2] [,3]\n",
       "[1,]    0    0    0\n",
       "[2,]    0    0    0\n",
       "\n",
       ", , 3\n",
       "\n",
       "     [,1] [,2] [,3]\n",
       "[1,]    0    0    0\n",
       "[2,]    0    0    0\n",
       "\n",
       ", , 4\n",
       "\n",
       "     [,1] [,2] [,3]\n",
       "[1,]    0    0    0\n",
       "[2,]    0    0    0\n"
      ]
     },
     "metadata": {},
     "output_type": "display_data"
    }
   ],
   "source": [
    "x"
   ]
  },
  {
   "cell_type": "code",
   "execution_count": 49,
   "metadata": {},
   "outputs": [
    {
     "data": {
      "text/html": [
       "'list'"
      ],
      "text/latex": [
       "'list'"
      ],
      "text/markdown": [
       "'list'"
      ],
      "text/plain": [
       "[1] \"list\""
      ]
     },
     "metadata": {},
     "output_type": "display_data"
    }
   ],
   "source": [
    "class( attributes(x) )"
   ]
  },
  {
   "cell_type": "markdown",
   "metadata": {},
   "source": [
    "# List: an ordered collection of objects"
   ]
  },
  {
   "cell_type": "code",
   "execution_count": null,
   "metadata": {},
   "outputs": [],
   "source": [
    "w <- list(name=\"Fred\", mynumbers=a, mymatrix=y, age=5.3)"
   ]
  },
  {
   "cell_type": "code",
   "execution_count": null,
   "metadata": {},
   "outputs": [],
   "source": [
    "as.matrix(w)"
   ]
  },
  {
   "cell_type": "code",
   "execution_count": null,
   "metadata": {},
   "outputs": [],
   "source": [
    "cbind( w, 'hello')"
   ]
  },
  {
   "cell_type": "code",
   "execution_count": 50,
   "metadata": {},
   "outputs": [],
   "source": [
    "n = c(2, 3, 5) \n",
    "s = c(\"aa\", \"bb\", \"cc\", \"dd\", \"ee\") \n",
    "b = c(TRUE, FALSE, TRUE, FALSE, FALSE) \n",
    "x = list(n, s, b, 3)   # x contains copies of n, s, b"
   ]
  },
  {
   "cell_type": "markdown",
   "metadata": {},
   "source": [
    "## List Slicing with single bracket"
   ]
  },
  {
   "cell_type": "code",
   "execution_count": 11,
   "metadata": {},
   "outputs": [
    {
     "data": {
      "text/html": [
       "<ol>\n",
       "\t<li><ol class=list-inline>\n",
       "\t<li>'aa'</li>\n",
       "\t<li>'bb'</li>\n",
       "\t<li>'cc'</li>\n",
       "\t<li>'dd'</li>\n",
       "\t<li>'ee'</li>\n",
       "</ol>\n",
       "</li>\n",
       "</ol>\n"
      ],
      "text/latex": [
       "\\begin{enumerate}\n",
       "\\item \\begin{enumerate*}\n",
       "\\item 'aa'\n",
       "\\item 'bb'\n",
       "\\item 'cc'\n",
       "\\item 'dd'\n",
       "\\item 'ee'\n",
       "\\end{enumerate*}\n",
       "\n",
       "\\end{enumerate}\n"
      ],
      "text/markdown": [
       "1. 1. 'aa'\n",
       "2. 'bb'\n",
       "3. 'cc'\n",
       "4. 'dd'\n",
       "5. 'ee'\n",
       "\n",
       "\n",
       "\n",
       "\n",
       "\n"
      ],
      "text/plain": [
       "[[1]]\n",
       "[1] \"aa\" \"bb\" \"cc\" \"dd\" \"ee\"\n"
      ]
     },
     "metadata": {},
     "output_type": "display_data"
    }
   ],
   "source": [
    "x[2]"
   ]
  },
  {
   "cell_type": "code",
   "execution_count": 12,
   "metadata": {},
   "outputs": [
    {
     "data": {
      "text/html": [
       "<ol>\n",
       "\t<li><ol class=list-inline>\n",
       "\t<li>'aa'</li>\n",
       "\t<li>'bb'</li>\n",
       "\t<li>'cc'</li>\n",
       "\t<li>'dd'</li>\n",
       "\t<li>'ee'</li>\n",
       "</ol>\n",
       "</li>\n",
       "\t<li><ol class=list-inline>\n",
       "\t<li>TRUE</li>\n",
       "\t<li>FALSE</li>\n",
       "\t<li>TRUE</li>\n",
       "\t<li>FALSE</li>\n",
       "\t<li>FALSE</li>\n",
       "</ol>\n",
       "</li>\n",
       "</ol>\n"
      ],
      "text/latex": [
       "\\begin{enumerate}\n",
       "\\item \\begin{enumerate*}\n",
       "\\item 'aa'\n",
       "\\item 'bb'\n",
       "\\item 'cc'\n",
       "\\item 'dd'\n",
       "\\item 'ee'\n",
       "\\end{enumerate*}\n",
       "\n",
       "\\item \\begin{enumerate*}\n",
       "\\item TRUE\n",
       "\\item FALSE\n",
       "\\item TRUE\n",
       "\\item FALSE\n",
       "\\item FALSE\n",
       "\\end{enumerate*}\n",
       "\n",
       "\\end{enumerate}\n"
      ],
      "text/markdown": [
       "1. 1. 'aa'\n",
       "2. 'bb'\n",
       "3. 'cc'\n",
       "4. 'dd'\n",
       "5. 'ee'\n",
       "\n",
       "\n",
       "\n",
       "2. 1. TRUE\n",
       "2. FALSE\n",
       "3. TRUE\n",
       "4. FALSE\n",
       "5. FALSE\n",
       "\n",
       "\n",
       "\n",
       "\n",
       "\n"
      ],
      "text/plain": [
       "[[1]]\n",
       "[1] \"aa\" \"bb\" \"cc\" \"dd\" \"ee\"\n",
       "\n",
       "[[2]]\n",
       "[1]  TRUE FALSE  TRUE FALSE FALSE\n"
      ]
     },
     "metadata": {},
     "output_type": "display_data"
    }
   ],
   "source": [
    "x[2:3]"
   ]
  },
  {
   "cell_type": "markdown",
   "metadata": {},
   "source": [
    "## List member reference using double bracket [[]]"
   ]
  },
  {
   "cell_type": "code",
   "execution_count": 15,
   "metadata": {},
   "outputs": [],
   "source": [
    "x[[2]][4] <- \"ppppp\""
   ]
  },
  {
   "cell_type": "code",
   "execution_count": 16,
   "metadata": {},
   "outputs": [
    {
     "data": {
      "text/html": [
       "<ol>\n",
       "\t<li><ol class=list-inline>\n",
       "\t<li>2</li>\n",
       "\t<li>3</li>\n",
       "\t<li>5</li>\n",
       "</ol>\n",
       "</li>\n",
       "\t<li><ol class=list-inline>\n",
       "\t<li>'aa'</li>\n",
       "\t<li>'bb'</li>\n",
       "\t<li>'cc'</li>\n",
       "\t<li>'ppppp'</li>\n",
       "\t<li>'ee'</li>\n",
       "</ol>\n",
       "</li>\n",
       "\t<li><ol class=list-inline>\n",
       "\t<li>TRUE</li>\n",
       "\t<li>FALSE</li>\n",
       "\t<li>TRUE</li>\n",
       "\t<li>FALSE</li>\n",
       "\t<li>FALSE</li>\n",
       "</ol>\n",
       "</li>\n",
       "\t<li>3</li>\n",
       "</ol>\n"
      ],
      "text/latex": [
       "\\begin{enumerate}\n",
       "\\item \\begin{enumerate*}\n",
       "\\item 2\n",
       "\\item 3\n",
       "\\item 5\n",
       "\\end{enumerate*}\n",
       "\n",
       "\\item \\begin{enumerate*}\n",
       "\\item 'aa'\n",
       "\\item 'bb'\n",
       "\\item 'cc'\n",
       "\\item 'ppppp'\n",
       "\\item 'ee'\n",
       "\\end{enumerate*}\n",
       "\n",
       "\\item \\begin{enumerate*}\n",
       "\\item TRUE\n",
       "\\item FALSE\n",
       "\\item TRUE\n",
       "\\item FALSE\n",
       "\\item FALSE\n",
       "\\end{enumerate*}\n",
       "\n",
       "\\item 3\n",
       "\\end{enumerate}\n"
      ],
      "text/markdown": [
       "1. 1. 2\n",
       "2. 3\n",
       "3. 5\n",
       "\n",
       "\n",
       "\n",
       "2. 1. 'aa'\n",
       "2. 'bb'\n",
       "3. 'cc'\n",
       "4. 'ppppp'\n",
       "5. 'ee'\n",
       "\n",
       "\n",
       "\n",
       "3. 1. TRUE\n",
       "2. FALSE\n",
       "3. TRUE\n",
       "4. FALSE\n",
       "5. FALSE\n",
       "\n",
       "\n",
       "\n",
       "4. 3\n",
       "\n",
       "\n"
      ],
      "text/plain": [
       "[[1]]\n",
       "[1] 2 3 5\n",
       "\n",
       "[[2]]\n",
       "[1] \"aa\"    \"bb\"    \"cc\"    \"ppppp\" \"ee\"   \n",
       "\n",
       "[[3]]\n",
       "[1]  TRUE FALSE  TRUE FALSE FALSE\n",
       "\n",
       "[[4]]\n",
       "[1] 3\n"
      ]
     },
     "metadata": {},
     "output_type": "display_data"
    }
   ],
   "source": [
    "x"
   ]
  },
  {
   "cell_type": "code",
   "execution_count": 20,
   "metadata": {},
   "outputs": [
    {
     "data": {
      "text/html": [
       "<ol>\n",
       "\t<li>NULL</li>\n",
       "</ol>\n"
      ],
      "text/latex": [
       "\\begin{enumerate}\n",
       "\\item NULL\n",
       "\\end{enumerate}\n"
      ],
      "text/markdown": [
       "1. NULL\n",
       "\n",
       "\n"
      ],
      "text/plain": [
       "[[1]]\n",
       "NULL\n"
      ]
     },
     "metadata": {},
     "output_type": "display_data"
    }
   ],
   "source": [
    "x[2][4]"
   ]
  },
  {
   "cell_type": "markdown",
   "metadata": {},
   "source": [
    "## Subsetting\n",
    "\n",
    "* \\[ - when applied to a list, always returns a list\n",
    "* [[ - only returns a single value\n",
    "    * use to pull pieces out of a list\n",
    "    * use when the var name is stored in a variable\n",
    "* \\$ - shorthand for [[ combined with character subsetting\n",
    "    * use it for partial matching\n",
    "\n",
    "### Integer vs Logical Subsetting\n",
    "* positive integers - return elements at specified positions\n",
    "* negative integers omit elements at the specified positions\n",
    "* logical vectors get you the elements where TRUE\n",
    "\n",
    "\n",
    "### Simplifying vs. preserving: Comparing \"[\" and \"[[\"\n",
    "\n",
    "* Atomic vector- \"[\" keeps names, whereas \"[[\" does not:\n",
    "* List - return the object inside the list, not a single element\n",
    "* factor - drop any unused levels\n",
    "* matrix or array - if any of the dimensions has length 1, drop that dimension\n",
    "* data frame - if output is a single column, return a vector and not a data frame"
   ]
  },
  {
   "cell_type": "code",
   "execution_count": 1,
   "metadata": {},
   "outputs": [
    {
     "data": {
      "text/html": [
       "<strong>Abc:</strong> 123"
      ],
      "text/latex": [
       "\\textbf{Abc:} 123"
      ],
      "text/markdown": [
       "**Abc:** 123"
      ],
      "text/plain": [
       "Abc \n",
       "123 "
      ]
     },
     "metadata": {},
     "output_type": "display_data"
    },
    {
     "data": {
      "text/html": [
       "<strong>pi:</strong> 3.14159265358979"
      ],
      "text/latex": [
       "\\textbf{pi:} 3.14159265358979"
      ],
      "text/markdown": [
       "**pi:** 3.14159265358979"
      ],
      "text/plain": [
       "      pi \n",
       "3.141593 "
      ]
     },
     "metadata": {},
     "output_type": "display_data"
    },
    {
     "data": {
      "text/html": [
       "123"
      ],
      "text/latex": [
       "123"
      ],
      "text/markdown": [
       "123"
      ],
      "text/plain": [
       "[1] 123"
      ]
     },
     "metadata": {},
     "output_type": "display_data"
    },
    {
     "data": {
      "text/html": [
       "3.14159265358979"
      ],
      "text/latex": [
       "3.14159265358979"
      ],
      "text/markdown": [
       "3.14159265358979"
      ],
      "text/plain": [
       "[1] 3.141593"
      ]
     },
     "metadata": {},
     "output_type": "display_data"
    }
   ],
   "source": [
    "nx <- c(Abc = 123, pi = pi)\n",
    "nx[1] ; nx[\"pi\"] \n",
    "nx[[1]] ; nx[[\"pi\"]]"
   ]
  },
  {
   "cell_type": "code",
   "execution_count": 64,
   "metadata": {},
   "outputs": [
    {
     "data": {
      "text/html": [
       "'numeric'"
      ],
      "text/latex": [
       "'numeric'"
      ],
      "text/markdown": [
       "'numeric'"
      ],
      "text/plain": [
       "[1] \"numeric\""
      ]
     },
     "metadata": {},
     "output_type": "display_data"
    }
   ],
   "source": [
    "class( nx[1] )"
   ]
  },
  {
   "cell_type": "code",
   "execution_count": 65,
   "metadata": {},
   "outputs": [
    {
     "data": {
      "text/html": [
       "'double'"
      ],
      "text/latex": [
       "'double'"
      ],
      "text/markdown": [
       "'double'"
      ],
      "text/plain": [
       "[1] \"double\""
      ]
     },
     "metadata": {},
     "output_type": "display_data"
    }
   ],
   "source": [
    "typeof( nx[1] )"
   ]
  },
  {
   "cell_type": "code",
   "execution_count": 67,
   "metadata": {},
   "outputs": [
    {
     "data": {
      "text/html": [
       "<strong>$names</strong> = 'Abc'"
      ],
      "text/latex": [
       "\\textbf{\\$names} = 'Abc'"
      ],
      "text/markdown": [
       "**$names** = 'Abc'"
      ],
      "text/plain": [
       "$names\n",
       "[1] \"Abc\"\n"
      ]
     },
     "metadata": {},
     "output_type": "display_data"
    }
   ],
   "source": [
    "attributes( nx[1]  )"
   ]
  },
  {
   "cell_type": "code",
   "execution_count": 68,
   "metadata": {},
   "outputs": [
    {
     "data": {
      "text/html": [
       "'numeric'"
      ],
      "text/latex": [
       "'numeric'"
      ],
      "text/markdown": [
       "'numeric'"
      ],
      "text/plain": [
       "[1] \"numeric\""
      ]
     },
     "metadata": {},
     "output_type": "display_data"
    }
   ],
   "source": [
    "class( nx[[1]] )"
   ]
  },
  {
   "cell_type": "code",
   "execution_count": 69,
   "metadata": {},
   "outputs": [
    {
     "data": {
      "text/html": [
       "'double'"
      ],
      "text/latex": [
       "'double'"
      ],
      "text/markdown": [
       "'double'"
      ],
      "text/plain": [
       "[1] \"double\""
      ]
     },
     "metadata": {},
     "output_type": "display_data"
    }
   ],
   "source": [
    "typeof( nx[[1]] )"
   ]
  },
  {
   "cell_type": "code",
   "execution_count": 70,
   "metadata": {},
   "outputs": [
    {
     "data": {
      "text/plain": [
       "NULL"
      ]
     },
     "metadata": {},
     "output_type": "display_data"
    }
   ],
   "source": [
    "attributes( nx[[1]] )"
   ]
  },
  {
   "cell_type": "markdown",
   "metadata": {},
   "source": [
    "## str() function is like glimpse"
   ]
  },
  {
   "cell_type": "code",
   "execution_count": 52,
   "metadata": {},
   "outputs": [
    {
     "name": "stdout",
     "output_type": "stream",
     "text": [
      "List of 4\n",
      " $ : num [1:3] 2 3 5\n",
      " $ : chr [1:5] \"aa\" \"bb\" \"cc\" \"dd\" ...\n",
      " $ : logi [1:5] TRUE FALSE TRUE FALSE FALSE\n",
      " $ : num 3\n"
     ]
    },
    {
     "data": {
      "text/html": [
       "'NULL'"
      ],
      "text/latex": [
       "'NULL'"
      ],
      "text/markdown": [
       "'NULL'"
      ],
      "text/plain": [
       "[1] \"NULL\""
      ]
     },
     "metadata": {},
     "output_type": "display_data"
    }
   ],
   "source": [
    "str( x )"
   ]
  },
  {
   "cell_type": "markdown",
   "metadata": {},
   "source": [
    "## unlist() flattens list into a vector"
   ]
  },
  {
   "cell_type": "code",
   "execution_count": 56,
   "metadata": {},
   "outputs": [
    {
     "data": {
      "text/html": [
       "<ol class=list-inline>\n",
       "\t<li>'2'</li>\n",
       "\t<li>'3'</li>\n",
       "\t<li>'5'</li>\n",
       "\t<li>'aa'</li>\n",
       "\t<li>'bb'</li>\n",
       "\t<li>'cc'</li>\n",
       "\t<li>'dd'</li>\n",
       "\t<li>'ee'</li>\n",
       "\t<li>'TRUE'</li>\n",
       "\t<li>'FALSE'</li>\n",
       "\t<li>'TRUE'</li>\n",
       "\t<li>'FALSE'</li>\n",
       "\t<li>'FALSE'</li>\n",
       "\t<li>'3'</li>\n",
       "</ol>\n"
      ],
      "text/latex": [
       "\\begin{enumerate*}\n",
       "\\item '2'\n",
       "\\item '3'\n",
       "\\item '5'\n",
       "\\item 'aa'\n",
       "\\item 'bb'\n",
       "\\item 'cc'\n",
       "\\item 'dd'\n",
       "\\item 'ee'\n",
       "\\item 'TRUE'\n",
       "\\item 'FALSE'\n",
       "\\item 'TRUE'\n",
       "\\item 'FALSE'\n",
       "\\item 'FALSE'\n",
       "\\item '3'\n",
       "\\end{enumerate*}\n"
      ],
      "text/markdown": [
       "1. '2'\n",
       "2. '3'\n",
       "3. '5'\n",
       "4. 'aa'\n",
       "5. 'bb'\n",
       "6. 'cc'\n",
       "7. 'dd'\n",
       "8. 'ee'\n",
       "9. 'TRUE'\n",
       "10. 'FALSE'\n",
       "11. 'TRUE'\n",
       "12. 'FALSE'\n",
       "13. 'FALSE'\n",
       "14. '3'\n",
       "\n",
       "\n"
      ],
      "text/plain": [
       " [1] \"2\"     \"3\"     \"5\"     \"aa\"    \"bb\"    \"cc\"    \"dd\"    \"ee\"    \"TRUE\" \n",
       "[10] \"FALSE\" \"TRUE\"  \"FALSE\" \"FALSE\" \"3\"    "
      ]
     },
     "metadata": {},
     "output_type": "display_data"
    }
   ],
   "source": [
    "unlist( x )"
   ]
  },
  {
   "cell_type": "markdown",
   "metadata": {},
   "source": [
    "## Extraction operator\n",
    "\n",
    "* The \\$ allows you extract elements by name from a named list\n",
    "* The main difference is that $ does not allow computed indices, whereas [[ does.\n",
    "* see ?Extract"
   ]
  },
  {
   "cell_type": "markdown",
   "metadata": {},
   "source": [
    "# data.frame - lists of columns"
   ]
  },
  {
   "cell_type": "markdown",
   "metadata": {},
   "source": [
    "# Attributes - Object Metadata\n",
    "\n",
    "* names, dimensions, dimnames, classes, time series attributes\n",
    "## Get and set attributes with attributes() and attr()\n",
    "\n",
    "* attributes() function returns a list\n",
    "* length(): nrow() ncol() for matrices, dim for arrays()\n",
    "* names(): rownames() colnames(), dimnames()"
   ]
  },
  {
   "cell_type": "code",
   "execution_count": 25,
   "metadata": {},
   "outputs": [
    {
     "data": {
      "text/plain": [
       "NULL"
      ]
     },
     "metadata": {},
     "output_type": "display_data"
    }
   ],
   "source": [
    "attr( list, 'names')"
   ]
  },
  {
   "cell_type": "markdown",
   "metadata": {},
   "source": [
    "# Casting\n",
    "\n",
    "* as.integer()\n",
    "* as.character()\n",
    "* as.numeric()"
   ]
  },
  {
   "cell_type": "markdown",
   "metadata": {},
   "source": [
    "# Formula data Type\n",
    "\n",
    "* express relationship between variables \n",
    "* typeof = language, class = formula\n",
    "* Captures an unevaluated expression\n",
    "    * The data values that have been assigned to the symbols in the formula are not accessed when the formula itself is created\n",
    "    * \"capture the meaning of this code without evaluating it right away.\"\n",
    "    * Captures the context or environment in which the expression was created. Captures the values of variables without evaluating them so they can be interpreted by the function\n",
    "* Characterized by the tilde operator\n",
    "    * two-sided formula\n",
    "        * left hand side of tilde is dependent variable and independent variables on the right hand side\n",
    "        * one-sided formula has no left side\n",
    "    * check sidedness using length()\n",
    "    * access elements of formula using [[]] operator for indices 1, 2, and 3\n",
    "## Symbols\n",
    "### Operators built into R\n",
    "* + - for using multiple indepent variables\n",
    "* - - for ignoring variables\n",
    "* : - for inteaction\n",
    "* * - for crossing\n",
    "* %in% - for nesting\n",
    "* ^ - for limit crossing to the specified degree\n",
    "* I() - the \"as-is\" operator - \"inhibit the interpretation of operators such as \"+\", \"-\", \"*\" and \"^\" as formula operators, so they are used as arithmetical operators\"\n",
    "* . operator - everything else, all the rest of the variables in the matrix/data.frame\n",
    "### Additional operators/functionality provided by 3rd party packages\n",
    "* Multi-response formulas\n",
    "* |\n",
    "* ||\n",
    "\n",
    "## Inspecting Formiulas in R\n",
    "    * terms()\n",
    "    * all.vars()\n",
    "    * update( y ~ x1 + x2, ~ . + x3 ) . # y ~ x1 + x2 + x3"
   ]
  },
  {
   "cell_type": "markdown",
   "metadata": {},
   "source": [
    "# Magrittr pipes\n",
    "\n",
    "* %>%\n",
    "* %\\$%\n",
    "* . placeholder"
   ]
  },
  {
   "cell_type": "markdown",
   "metadata": {},
   "source": [
    "# foreach\n",
    "* [A Guide to parallelism in R](https://privefl.github.io/blog/a-guide-to-parallelism-in-r/)\n",
    "\n",
    "## foreach + %do%\n",
    "* equivalent to lapply\n",
    "* nested foreach's with %:%\n",
    "\n",
    "### Return lists\n",
    "* foreach(i=1:3) %do% sqrt(i)\n",
    "* foreach(a=1:3, b=rep(10, 3)) %do% (a + b)\n",
    "* Can use parens for predicate\n",
    "### Return things other than lists using .combine arg\n",
    "* .combine='c' makes vector\n",
    "* .combine='cbind' makes matrix: Matrix foreach(i=1:4, .combine='cbind') %do% rnorm(4)\n",
    "\n",
    "## foreach + %dopar%\n",
    "* tell children which packages to require using .packages arg\n",
    "* Or better to be explicit and use :: scoping like dplyr::count\n",
    "\n",
    "## List comprehensions - allows you to add an if clause\n",
    "* foreach(a=irnorm(1, count=10), .combine='c') %:% when(a >= 0) %do% sqrt(a)"
   ]
  },
  {
   "cell_type": "markdown",
   "metadata": {},
   "source": [
    "# doParallel\n",
    "\n",
    "## Ex. 1\n",
    "```\n",
    "cl <- parallel::makeForkCluster(2)\n",
    "doParallel::registerDoParallel(cl)\n",
    "foreach(i = 1:3, .combine = 'c') %dopar% {\n",
    "  sqrt(i)\n",
    "}\n",
    "parallel::stopCluster(cl)\n",
    "```\n",
    "\n",
    "## Ex. 2: Using doParallel::parLapply\n",
    "```\n",
    "library(doParallel)  \n",
    "no_cores <- detectCores() - 1  \n",
    "registerDoParallel(cores=no_cores)  \n",
    "cl <- makeCluster(no_cores, type=\"FORK\")  \n",
    "result <- parLapply(cl, 10:10000, getPrimeNumbers)  \n",
    "stopCluster(cl) \n",
    "```"
   ]
  },
  {
   "cell_type": "markdown",
   "metadata": {},
   "source": [
    "# Dplyr do()\n",
    "\n",
    "* always returns a dataframe\n",
    "* always needs specification of . placeholder\n",
    "* use with group_by()\n",
    "* can extract out of . placeholder, i.e., .\\$varname"
   ]
  },
  {
   "cell_type": "code",
   "execution_count": null,
   "metadata": {},
   "outputs": [],
   "source": []
  }
 ],
 "metadata": {
  "kernelspec": {
   "display_name": "R",
   "language": "R",
   "name": "ir"
  },
  "language_info": {
   "codemirror_mode": "r",
   "file_extension": ".r",
   "mimetype": "text/x-r-source",
   "name": "R",
   "pygments_lexer": "r",
   "version": "3.5.0"
  }
 },
 "nbformat": 4,
 "nbformat_minor": 2
}
